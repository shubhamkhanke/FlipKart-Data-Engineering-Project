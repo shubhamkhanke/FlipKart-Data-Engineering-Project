{
 "cells": [
  {
   "cell_type": "code",
   "execution_count": 1,
   "id": "34c877a8",
   "metadata": {},
   "outputs": [],
   "source": [
    "from pyspark.sql import SparkSession"
   ]
  },
  {
   "cell_type": "code",
   "execution_count": 40,
   "id": "1cd1acb6",
   "metadata": {},
   "outputs": [],
   "source": [
    "spark = SparkSession.builder.appName(\"Flipkar_Dataset\").getOrCreate()"
   ]
  },
  {
   "cell_type": "code",
   "execution_count": 55,
   "id": "91ce3c8e",
   "metadata": {},
   "outputs": [
    {
     "name": "stdout",
     "output_type": "stream",
     "text": [
      "+-----+--------------------+------+---------+--------+---------+---------+----------+-------+-------+-------+-------+-------+----------+\n",
      "|   id|               title|Rating|maincateg|platform|actprice1|norating1|noreviews1|star_5f|star_4f|star_3f|star_2f|star_1f|fulfilled1|\n",
      "+-----+--------------------+------+---------+--------+---------+---------+----------+-------+-------+-------+-------+-------+----------+\n",
      "| 2242|Casuals For Men  ...|   3.8|      Men|Flipkart|      999|    27928|      3543|  14238|   4295|   3457|   1962|   3976|         1|\n",
      "|20532|Women Black Flats...|   3.9|    Women|Flipkart|      499|     3015|       404|   1458|    657|    397|    182|    321|         1|\n",
      "|10648|Women Gold Wedges...|   3.9|    Women|Flipkart|      999|      449|        52|    229|     70|     71|     33|     46|         1|\n",
      "|20677|Men's Height Incr...|   3.9|      Men|Flipkart|     2999|      290|        40|    141|     51|     49|     17|     32|         1|\n",
      "|12593|Loafers For Men  ...|   3.9|      Men|Flipkart|      999|     2423|       326|   1265|    414|    293|    143|    308|         0|\n",
      "+-----+--------------------+------+---------+--------+---------+---------+----------+-------+-------+-------+-------+-------+----------+\n",
      "only showing top 5 rows\n",
      "\n"
     ]
    }
   ],
   "source": [
    "fp_df = spark.read.csv('Flipkart.csv', header=True, inferSchema=True)\n",
    "fp_df.show(5)"
   ]
  },
  {
   "cell_type": "code",
   "execution_count": 47,
   "id": "b865cc3e",
   "metadata": {},
   "outputs": [
    {
     "name": "stdout",
     "output_type": "stream",
     "text": [
      "root\n",
      " |-- id: integer (nullable = true)\n",
      " |-- title: string (nullable = true)\n",
      " |-- Rating: double (nullable = true)\n",
      " |-- maincateg: string (nullable = true)\n",
      " |-- platform: string (nullable = true)\n",
      " |-- actprice1: integer (nullable = true)\n",
      " |-- norating1: integer (nullable = true)\n",
      " |-- noreviews1: integer (nullable = true)\n",
      " |-- star_5f: integer (nullable = true)\n",
      " |-- star_4f: integer (nullable = true)\n",
      " |-- star_3f: integer (nullable = true)\n",
      " |-- star_2f: integer (nullable = true)\n",
      " |-- star_1f: integer (nullable = true)\n",
      " |-- fulfilled1: integer (nullable = true)\n",
      "\n"
     ]
    }
   ],
   "source": [
    "fp_df.printSchema()"
   ]
  },
  {
   "cell_type": "code",
   "execution_count": 62,
   "id": "dfbcb8c8",
   "metadata": {},
   "outputs": [],
   "source": [
    "from pyspark.sql.functions import col, isnan, isnull, when, count, expr"
   ]
  },
  {
   "cell_type": "code",
   "execution_count": 71,
   "id": "ccbf6e74",
   "metadata": {},
   "outputs": [],
   "source": [
    "from pyspark.sql.functions import *"
   ]
  },
  {
   "cell_type": "code",
   "execution_count": 57,
   "id": "782cdbc0",
   "metadata": {},
   "outputs": [
    {
     "name": "stdout",
     "output_type": "stream",
     "text": [
      "+---+-----+------+---------+--------+---------+---------+----------+-------+-------+-------+-------+-------+----------+\n",
      "| id|title|Rating|maincateg|platform|actprice1|norating1|noreviews1|star_5f|star_4f|star_3f|star_2f|star_1f|fulfilled1|\n",
      "+---+-----+------+---------+--------+---------+---------+----------+-------+-------+-------+-------+-------+----------+\n",
      "|  0|    0|   203|       67|       0|        0|        0|         0|     68|      0|      0|      0|    186|         0|\n",
      "+---+-----+------+---------+--------+---------+---------+----------+-------+-------+-------+-------+-------+----------+\n",
      "\n"
     ]
    }
   ],
   "source": [
    "## handling the missing data\n",
    "\n",
    "fp_df_null = fp_df.select([count(when(col(c).isNull(), c)).alias(c) for c in fp_df.columns])\n",
    "fp_df_null.show()"
   ]
  },
  {
   "cell_type": "code",
   "execution_count": 50,
   "id": "340cb975",
   "metadata": {},
   "outputs": [
    {
     "name": "stdout",
     "output_type": "stream",
     "text": [
      "+---+-----+------+---------+--------+---------+---------+----------+-------+-------+-------+-------+-------+----------+\n",
      "| id|title|Rating|maincateg|platform|actprice1|norating1|noreviews1|star_5f|star_4f|star_3f|star_2f|star_1f|fulfilled1|\n",
      "+---+-----+------+---------+--------+---------+---------+----------+-------+-------+-------+-------+-------+----------+\n",
      "|  0|    0|   203|       67|       0|        0|        0|         0|     68|      0|      0|      0|    186|         0|\n",
      "+---+-----+------+---------+--------+---------+---------+----------+-------+-------+-------+-------+-------+----------+\n",
      "\n"
     ]
    }
   ],
   "source": [
    "fp_df_null = fp_df.select([count(when(col(c).isNull(), c)).alias(c) for c in fp_df.columns])\n",
    "fp_df_null.show()"
   ]
  },
  {
   "cell_type": "code",
   "execution_count": 60,
   "id": "b3459192",
   "metadata": {},
   "outputs": [
    {
     "name": "stdout",
     "output_type": "stream",
     "text": [
      "+-----+--------------------+------+---------+--------+---------+---------+----------+-------+-------+-------+-------+-------+----------+\n",
      "|   id|               title|Rating|maincateg|platform|actprice1|norating1|noreviews1|star_5f|star_4f|star_3f|star_2f|star_1f|fulfilled1|\n",
      "+-----+--------------------+------+---------+--------+---------+---------+----------+-------+-------+-------+-------+-------+----------+\n",
      "| 2242|Casuals For Men  ...|   3.8|      Men|Flipkart|      999|    27928|      3543|  14238|   4295|   3457|   1962|   3976|         1|\n",
      "|20532|Women Black Flats...|   3.9|    Women|Flipkart|      499|     3015|       404|   1458|    657|    397|    182|    321|         1|\n",
      "|10648|Women Gold Wedges...|   3.9|    Women|Flipkart|      999|      449|        52|    229|     70|     71|     33|     46|         1|\n",
      "|20677|Men's Height Incr...|   3.9|      Men|Flipkart|     2999|      290|        40|    141|     51|     49|     17|     32|         1|\n",
      "|12593|Loafers For Men  ...|   3.9|      Men|Flipkart|      999|     2423|       326|   1265|    414|    293|    143|    308|         0|\n",
      "|11159|Canvas Shoes For ...|   3.9|      Men|Flipkart|      999|      541|        72|    281|    104|     69|     17|     70|         0|\n",
      "|10680|Combo Pack Of 2 C...|   3.9|      Men|Flipkart|     2400|      824|       105|    386|    199|    106|     61|     72|         1|\n",
      "| 6433|ARYA - DIFFERENT ...|   4.2|    Women|Flipkart|     4299|      166|        24|     94|     39|     12|      6|     15|         1|\n",
      "| 2794|Latest Collection...|   3.9|    Women|Flipkart|      499|     1816|       218|    899|    360|    239|    113|    208|         0|\n",
      "|11579|MOCCASSIN Slip On...|   3.8|      Men|Flipkart|     2299|     3066|       392|   1304|    803|    462|    189|    308|         1|\n",
      "|13859|Women Black Wedge...|   4.2|    Women|Flipkart|      279|     3048|       487|   1746|    679|    348|    114|    161|         1|\n",
      "|12260|Long OfficeWear C...|   3.9|      Men|Flipkart|      999|    14247|      2102|   6921|   2924|   1976|    882|   1544|         1|\n",
      "|18254|Women Black Heels...|   3.7|    Women|Flipkart|      999|      508|        80|    218|     88|     90|     40|     72|         0|\n",
      "|19453|Denill Ankle Leng...|   4.1|    Women|Flipkart|      999|     6806|       961|   3646|   1508|    810|    335|    510|         1|\n",
      "| 8121|Women Grey Heels ...|   4.2|    Women|Flipkart|     1990|       16|         1|     10|      2|      1|      3|      0|         1|\n",
      "| 9791|Pink Perfect Styl...|   4.2|    Women|Flipkart|      999|      509|        73|    288|    106|     61|     17|     37|         1|\n",
      "| 7402|Concave 2 Wn s ID...|   4.3|    Women|Flipkart|     3999|      367|        47|    206|    108|     30|      6|     18|         1|\n",
      "| 3205|     SFG-23 Slippers|   4.1|      Men|Flipkart|      319|    12936|      1598|   7030|   2850|   1453|    587|   1016|         1|\n",
      "|14489|Dark Brown Leathe...|   3.9|      Men|Flipkart|      599|      374|        55|    182|     75|     58|     20|     39|         1|\n",
      "|10607|Women Grey Sports...|   4.7|    Women|Flipkart|     1199|        6|         4|      4|      2|      0|      0|      0|         1|\n",
      "+-----+--------------------+------+---------+--------+---------+---------+----------+-------+-------+-------+-------+-------+----------+\n",
      "only showing top 20 rows\n",
      "\n"
     ]
    }
   ],
   "source": [
    "##Drop null value\n",
    "fp_df_drop = fp_df.na.drop()\n",
    "\n",
    "##fill missing value\n",
    "fp_df_fill = fp_df.fillna({\n",
    "                    'Rating' : 0\n",
    "})\n",
    "fp_df_fill.show()"
   ]
  },
  {
   "cell_type": "code",
   "execution_count": 68,
   "id": "b9b78a85",
   "metadata": {},
   "outputs": [
    {
     "name": "stdout",
     "output_type": "stream",
     "text": [
      "+-----+--------------------+------+---------+--------+---------+---------+----------+-------+-------+-------+-------+-------+----------+\n",
      "|   id|               title|Rating|maincateg|platform|actprice1|norating1|noreviews1|star_5f|star_4f|star_3f|star_2f|star_1f|fulfilled1|\n",
      "+-----+--------------------+------+---------+--------+---------+---------+----------+-------+-------+-------+-------+-------+----------+\n",
      "|17580|Women Beige Heels...|   0.0|    Women|Flipkart|      999|      473|        68|   NULL|    119|     45|     16|   NULL|         1|\n",
      "|11588|Royal Jutis For m...|   0.0|     NULL|Flipkart|      899|       41|         7|     22|      9|      3|      1|      6|         0|\n",
      "|15449|          Flip Flops|   0.0|     NULL|Flipkart|      499|     3073|       401|   1248|    517|    510|    274|   NULL|         1|\n",
      "|12342|Men Black, Blue S...|   0.0|      Men|Flipkart|     2499|       52|         5|   NULL|     13|      6|      4|   NULL|         1|\n",
      "| 9065|Sneakers For Men ...|   0.0|      Men|Flipkart|      999|     2465|       274|   1408|    407|    258|    137|   NULL|         0|\n",
      "|18332|      Wedge Slippers|   0.0|    Women|Flipkart|      249|      412|        60|    211|    118|     41|     19|   NULL|         1|\n",
      "|20713|              Slides|   0.0|    Women|Flipkart|      599|      692|        74|    341|    138|     99|     30|     84|         0|\n",
      "| 5574|Women Red Heels S...|   0.0|     NULL|Flipkart|      699|     7128|      1203|   3846|   1358|    797|    333|   NULL|         0|\n",
      "|20276|Quest 2 Running S...|   0.0|     NULL|Flipkart|     5995|      325|        58|    205|     62|     29|      9|   NULL|         1|\n",
      "|15115|WILLY-2 Bellies F...|   0.0|     NULL|Flipkart|      499|       44|         3|     11|     14|      4|      6|   NULL|         1|\n",
      "|19296|Men Multicolor Sp...|   0.0|      Men|Flipkart|      699|    16865|      2400|   9011|   4413|   1861|    618|   NULL|         1|\n",
      "| 7654|              Slides|   0.0|     NULL|Flipkart|      999|     1314|       155|    660|    228|    172|     89|   NULL|         1|\n",
      "|12240|Wink Duo GU2 IDP ...|   0.0|     NULL|Flipkart|     1499|     1034|       102|   NULL|    250|     99|     50|     99|         1|\n",
      "| 2022|Sports Mesh Runni...|   0.0|     NULL|Flipkart|      899|      937|       130|    448|    257|    101|     42|   NULL|         1|\n",
      "|12857|Black Jalsa Nagra...|   0.0|     NULL|Flipkart|      499|     1068|       157|    515|    228|    146|     71|    108|         1|\n",
      "|10810|Latest Stylish De...|   0.0|    Women|Flipkart|      999|     1260|       214|    677|    346|    113|     48|   NULL|         1|\n",
      "|19585|Women Grey Flats ...|   0.0|    Women|Flipkart|      999|     1877|       252|   NULL|    451|    243|    125|   NULL|         1|\n",
      "| 8170|Party Wear For Wo...|   0.0|    Women|Flipkart|     1299|       26|         4|   NULL|      5|      4|      2|   NULL|         0|\n",
      "|  430|Sneakers For Wome...|   0.0|    Women|Flipkart|      928|     6586|       998|   1123|   1863|   1260|    253|    149|         1|\n",
      "|18087|Men White Casual ...|   0.0|      Men|Flipkart|      999|     3657|       482|   1998|    729|    450|    205|   NULL|         0|\n",
      "+-----+--------------------+------+---------+--------+---------+---------+----------+-------+-------+-------+-------+-------+----------+\n",
      "only showing top 20 rows\n",
      "\n"
     ]
    }
   ],
   "source": [
    "fp_df_fill.filter(fp_df_fill.Rating == 0).show()"
   ]
  },
  {
   "cell_type": "code",
   "execution_count": 69,
   "id": "3a5cf64e",
   "metadata": {},
   "outputs": [
    {
     "name": "stdout",
     "output_type": "stream",
     "text": [
      "+-----+--------------------+------+---------+--------+---------+---------+----------+-------+-------+-------+-------+-------+----------+\n",
      "|   id|               title|Rating|maincateg|platform|actprice1|norating1|noreviews1|star_5f|star_4f|star_3f|star_2f|star_1f|fulfilled1|\n",
      "+-----+--------------------+------+---------+--------+---------+---------+----------+-------+-------+-------+-------+-------+----------+\n",
      "| 6433|ARYA - DIFFERENT ...|   4.2|    Women|Flipkart|     4299|      166|        24|     94|     39|     12|      6|     15|         1|\n",
      "|13859|Women Black Wedge...|   4.2|    Women|Flipkart|      279|     3048|       487|   1746|    679|    348|    114|    161|         1|\n",
      "|19453|Denill Ankle Leng...|   4.1|    Women|Flipkart|      999|     6806|       961|   3646|   1508|    810|    335|    510|         1|\n",
      "| 8121|Women Grey Heels ...|   4.2|    Women|Flipkart|     1990|       16|         1|     10|      2|      1|      3|      0|         1|\n",
      "| 9791|Pink Perfect Styl...|   4.2|    Women|Flipkart|      999|      509|        73|    288|    106|     61|     17|     37|         1|\n",
      "| 7402|Concave 2 Wn s ID...|   4.3|    Women|Flipkart|     3999|      367|        47|    206|    108|     30|      6|     18|         1|\n",
      "| 3205|     SFG-23 Slippers|   4.1|      Men|Flipkart|      319|    12936|      1598|   7030|   2850|   1453|    587|   1016|         1|\n",
      "|10607|Women Grey Sports...|   4.7|    Women|Flipkart|     1199|        6|         4|      4|      2|      0|      0|      0|         1|\n",
      "| 3659|Women Grey, Orang...|   4.3|    Women|Flipkart|      799|      212|        41|    123|     59|     12|      9|      9|         1|\n",
      "| 7625|White casual, gym...|   4.2|      Men|Flipkart|      999|     2430|       381|   1472|    397|    251|    105|    205|         0|\n",
      "|12862|Suede Heart Snake...|   4.4|    Women|Flipkart|     6999|       79|        11|     59|      8|      4|      2|      6|         1|\n",
      "| 6889|Pacer Next Sneake...|   4.3|    Women|Flipkart|     5499|      209|        36|    124|     53|     20|      4|      8|         1|\n",
      "|17791|Synthetic Leather...|   4.2|    Women|Flipkart|     1399|     1256|       182|    791|    212|    114|     43|     96|         1|\n",
      "| 8920|Monk Strap For Me...|   4.2|      Men|Flipkart|     4595|      498|        58|    281|    116|     44|     23|     34|         1|\n",
      "|15762|Running Shoes For...|   4.1|      Men|Flipkart|      999|    57372|      8254|  32715|  10686|   6362|   2806|   4803|         0|\n",
      "| 9762|    Men Brown Sandal|   4.6|      Men|Flipkart|      349|       20|         2|     14|      4|      2|      0|      0|         1|\n",
      "|15247|SM-484 Casuals Fo...|   4.2|      Men|Flipkart|     1399|     2958|       436|   1685|    736|    259|    107|    171|         0|\n",
      "| 9075|Women Black Heels...|   4.1|    Women|Flipkart|      999|       59|         7|     34|      7|     10|      4|      4|         0|\n",
      "| 7800|Women Green Flats...|   4.1|    Women|Flipkart|      999|      607|        63|    305|    174|     70|     27|     31|         1|\n",
      "|20247|Women Black Heels...|   4.1|    Women|Flipkart|      999|     1052|       182|    568|    248|    121|     45|     70|         1|\n",
      "+-----+--------------------+------+---------+--------+---------+---------+----------+-------+-------+-------+-------+-------+----------+\n",
      "only showing top 20 rows\n",
      "\n"
     ]
    }
   ],
   "source": [
    "high_rated_product = fp_df_fill.filter('Rating > 4')\n",
    "high_rated_product.show()"
   ]
  },
  {
   "cell_type": "code",
   "execution_count": 70,
   "id": "de19e64d",
   "metadata": {},
   "outputs": [
    {
     "name": "stdout",
     "output_type": "stream",
     "text": [
      "+---------+-----------------+\n",
      "|maincateg|      avg(Rating)|\n",
      "+---------+-----------------+\n",
      "|      Men|3.967410281280314|\n",
      "|    Women|4.041507503410653|\n",
      "+---------+-----------------+\n",
      "\n"
     ]
    }
   ],
   "source": [
    "## group by and categeory wise avg rating\n",
    "\n",
    "avg_rating = fp_df_drop.groupBy('maincateg').avg('Rating')\n",
    "avg_rating.show()"
   ]
  },
  {
   "cell_type": "code",
   "execution_count": null,
   "id": "769fee7b",
   "metadata": {},
   "outputs": [],
   "source": []
  },
  {
   "cell_type": "code",
   "execution_count": 72,
   "id": "70d14203",
   "metadata": {},
   "outputs": [
    {
     "name": "stdout",
     "output_type": "stream",
     "text": [
      "+---------+------------------+\n",
      "|maincateg|       sum(Rating)|\n",
      "+---------+------------------+\n",
      "|      Men|8180.8000000000075|\n",
      "|    Women|11849.700000000035|\n",
      "+---------+------------------+\n",
      "\n"
     ]
    }
   ],
   "source": [
    "## total rating by categeory wise\n",
    "\n",
    "avg_rating_total = fp_df_drop.groupBy('maincateg').agg(sum('Rating'))\n",
    "avg_rating_total.show()"
   ]
  },
  {
   "cell_type": "code",
   "execution_count": 75,
   "id": "dbae9150",
   "metadata": {},
   "outputs": [],
   "source": [
    "output_table = 'Flipkart_data_analysis'\n",
    "fp_df_drop.write.mode('overwrite').saveAsTable(output_table)"
   ]
  },
  {
   "cell_type": "code",
   "execution_count": 77,
   "id": "32596268",
   "metadata": {},
   "outputs": [
    {
     "ename": "SyntaxError",
     "evalue": "invalid syntax (2898414346.py, line 2)",
     "output_type": "error",
     "traceback": [
      "\u001b[1;36m  Cell \u001b[1;32mIn[77], line 2\u001b[1;36m\u001b[0m\n\u001b[1;33m    select * from Flipkart_data_analysis limit 20;\u001b[0m\n\u001b[1;37m             ^\u001b[0m\n\u001b[1;31mSyntaxError\u001b[0m\u001b[1;31m:\u001b[0m invalid syntax\n"
     ]
    }
   ],
   "source": [
    "%sqrt\n",
    "select * from Flipkart_data_analysis limit 20;"
   ]
  },
  {
   "cell_type": "code",
   "execution_count": null,
   "id": "00bed28e",
   "metadata": {},
   "outputs": [],
   "source": []
  }
 ],
 "metadata": {
  "kernelspec": {
   "display_name": "Python 3 (ipykernel)",
   "language": "python",
   "name": "python3"
  },
  "language_info": {
   "codemirror_mode": {
    "name": "ipython",
    "version": 3
   },
   "file_extension": ".py",
   "mimetype": "text/x-python",
   "name": "python",
   "nbconvert_exporter": "python",
   "pygments_lexer": "ipython3",
   "version": "3.9.1"
  }
 },
 "nbformat": 4,
 "nbformat_minor": 5
}
